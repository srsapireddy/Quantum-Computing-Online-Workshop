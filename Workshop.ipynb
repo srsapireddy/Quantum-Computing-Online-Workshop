{
  "nbformat": 4,
  "nbformat_minor": 0,
  "metadata": {
    "kernelspec": {
      "display_name": "Python 3",
      "language": "python",
      "name": "python3"
    },
    "language_info": {
      "codemirror_mode": {
        "name": "ipython",
        "version": 3
      },
      "file_extension": ".py",
      "mimetype": "text/x-python",
      "name": "python",
      "nbconvert_exporter": "python",
      "pygments_lexer": "ipython3",
      "version": "3.7.2"
    },
    "colab": {
      "name": "Workshop.ipynb",
      "provenance": []
    }
  },
  "cells": [
    {
      "cell_type": "markdown",
      "metadata": {
        "id": "lfdZqLz6p1ib"
      },
      "source": [
        "<img src=\"https://github.com/mtreinish/qiskit-workshop/blob/master/qiskit-heading.png?raw=1\" alt=\"Drawing\" style=\"width: 300px;\"/>\n",
        "\n",
        "\n",
        "# Get Started with Quantum Computing and Qiskit\n",
        "\n",
        "This workshop is hosted at: https://github.com/mtreinish/qiskit-workshop"
      ]
    },
    {
      "cell_type": "markdown",
      "metadata": {
        "id": "QJzCGV85p1ix"
      },
      "source": [
        "To get started we'll need to install Qiskit. If you have Python >= 3.5 and Jupyter installed you can run this locally. Or alternatively you can run this in Google Colab (if you have a Google account):\n",
        "https://colab.research.google.com/github/mtreinish/qiskit-workshop/blob/master/Workshop.ipynb\n",
        "\n",
        "Once you have the workshop running if you have not installed Qiskit before (or you are running in colab) you can uncomment and run the following cell to install it:"
      ]
    },
    {
      "cell_type": "code",
      "metadata": {
        "id": "__mAdM5Ap1iy"
      },
      "source": [
        "#!pip install qiskit"
      ],
      "execution_count": null,
      "outputs": []
    },
    {
      "cell_type": "markdown",
      "metadata": {
        "id": "r2ofQVLDp1iz"
      },
      "source": [
        "Once we have Qiskit is installed we want to test that it's working properly."
      ]
    },
    {
      "cell_type": "code",
      "metadata": {
        "id": "pHB5YxY1p1i7"
      },
      "source": [
        "import qiskit\n",
        "qiskit.__version__"
      ],
      "execution_count": null,
      "outputs": []
    },
    {
      "cell_type": "markdown",
      "metadata": {
        "id": "Eh5yzMnBp1i9"
      },
      "source": [
        "## Signup for the Quantum Experience\n",
        "\n",
        "While for the most part we'll use local simulation for this workshop, if you want to run anything on a real quantum device you'll need an account on the Quantum Experience. We'll do this before moving on:\n",
        "\n",
        "1. Visit: https://quantumexperience.ng.bluemix.net/qx/ and signup for an account. You can use a SSO from an IBMid, LinkedIn, Github, Google, or Twitter in addition to creating a new account.\n",
        "\n",
        "![Login Box](https://github.com/mtreinish/qiskit-workshop/blob/master/QX_login.png?raw=1)\n",
        "\n",
        "\n",
        "\n",
        "2. After you're logged into your new account visit: https://quantumexperience.ng.bluemix.net/qx/account/advanced where you'll need to generate an **API Token**. Once you've generated a token you'll want to copy it so we can use Qiskit to store it locally so it can be used for accessing the quantum devices.\n"
      ]
    },
    {
      "cell_type": "code",
      "metadata": {
        "id": "qZ-IR94op1i_"
      },
      "source": [
        "# Enable your account on Qiskit, replace 'My_API_Token' with your newly generated token\n",
        "#qiskit.IBMQ.save_account('My_API_Token')\n",
        "qiskit.IBMQ.load_accounts()\n",
        "# After loading credentials we query the backends\n",
        "qiskit.IBMQ.backends()"
      ],
      "execution_count": null,
      "outputs": []
    },
    {
      "cell_type": "code",
      "metadata": {
        "id": "o4x6t0APp1jA"
      },
      "source": [
        "from qiskit.tools.jupyter import *"
      ],
      "execution_count": null,
      "outputs": []
    },
    {
      "cell_type": "code",
      "metadata": {
        "scrolled": false,
        "id": "uDuW47KKp1jC"
      },
      "source": [
        "# Show Quantum Device Overiew\n",
        "%qiskit_backend_overview"
      ],
      "execution_count": null,
      "outputs": []
    },
    {
      "cell_type": "code",
      "metadata": {
        "scrolled": false,
        "id": "kN5thU1dp1jC"
      },
      "source": [
        "# Show individual backend details\n",
        "backend = qiskit.IBMQ.get_backend('ibmqx2')\n",
        "%qiskit_backend_monitor backend"
      ],
      "execution_count": null,
      "outputs": []
    },
    {
      "cell_type": "markdown",
      "metadata": {
        "id": "JeUmdOvZp1jD"
      },
      "source": [
        "## Running on a Quantum Device\n",
        "In any of the examples below you can simply replace the use of the `backend_sim` variable with `backend` in any calls to `qiskit.execute()` below and it'll run the circuit on a real quantum device instead of in the local simulator. However be aware that because the real devices are shared time you'll likely have to wait some time in the queue before your job executes."
      ]
    },
    {
      "cell_type": "markdown",
      "metadata": {
        "id": "UNxJHyePp1jE"
      },
      "source": [
        "# The Qubit"
      ]
    },
    {
      "cell_type": "code",
      "metadata": {
        "id": "Iq6-8mx9p1jK"
      },
      "source": [
        "# Use BasicAer's qasm_simulator\n",
        "backend_sim = qiskit.BasicAer.get_backend('qasm_simulator')"
      ],
      "execution_count": null,
      "outputs": []
    },
    {
      "cell_type": "code",
      "metadata": {
        "id": "zFmmod3ep1jL"
      },
      "source": [
        "# Define the Quantum and Classical Registers\n",
        "q = qiskit.QuantumRegister(1)\n",
        "c = qiskit.ClassicalRegister(1)\n",
        "\n",
        "# Build the circuit\n",
        "single_q_measurement = qiskit.QuantumCircuit(q, c)\n",
        "single_q_measurement.measure(q, c);"
      ],
      "execution_count": null,
      "outputs": []
    },
    {
      "cell_type": "code",
      "metadata": {
        "id": "zlbDncJ2p1jM"
      },
      "source": [
        "qiskit.tools.visualization.plot_bloch_vector([0, 0, 1])"
      ],
      "execution_count": null,
      "outputs": []
    },
    {
      "cell_type": "code",
      "metadata": {
        "id": "s9WgnPaXp1jN"
      },
      "source": [
        "# Execute the circuit\n",
        "job = qiskit.execute(single_q_measurement, backend_sim)\n",
        "result = job.result()\n",
        "# Print the result\n",
        "counts = result.get_counts(single_q_measurement)\n",
        "print(counts)"
      ],
      "execution_count": null,
      "outputs": []
    },
    {
      "cell_type": "code",
      "metadata": {
        "id": "Q_2H9LeQp1jN"
      },
      "source": [
        "qiskit.tools.visualization.plot_histogram(counts)"
      ],
      "execution_count": null,
      "outputs": []
    },
    {
      "cell_type": "markdown",
      "metadata": {
        "id": "UiXJ77B0p1jO"
      },
      "source": [
        "# The Quantum Not Gate"
      ]
    },
    {
      "cell_type": "code",
      "metadata": {
        "id": "twFDnT_Xp1jO"
      },
      "source": [
        "# Create a Quantum Register with 1 qubit (wire).\n",
        "qr = qiskit.QuantumRegister(1)\n",
        "\n",
        "# Create a Classical Register with 1 bit (double wire).\n",
        "cr = qiskit.ClassicalRegister(1)\n",
        "\n",
        "# Create a Quantum Circuit from the quantum and classical registers\n",
        "circ = qiskit.QuantumCircuit(qr, cr)\n",
        "\n",
        "# Place an X gate on the qubit wire. The registers are zero-indexed.\n",
        "circ.x(qr[0])\n",
        "\n",
        "# Measure the qubit into the classical register\n",
        "circ.measure(qr, cr)\n",
        "\n",
        "# Draw the circuit\n",
        "circ.draw(output='mpl')"
      ],
      "execution_count": null,
      "outputs": []
    },
    {
      "cell_type": "code",
      "metadata": {
        "id": "SXM0HiYYp1jO"
      },
      "source": [
        "qiskit.tools.visualization.plot_bloch_vector([0, 0, -1])"
      ],
      "execution_count": null,
      "outputs": []
    },
    {
      "cell_type": "code",
      "metadata": {
        "id": "_yXPNTDbp1jO"
      },
      "source": [
        "# Execute the circuit on the qasm simulator, running it 100 times.\n",
        "job_sim = qiskit.execute(circ, backend_sim, shots=100)\n",
        "\n",
        "# Grab the results from the job.\n",
        "result_sim = job_sim.result()\n",
        "\n",
        "# Print the counts, which are contained in a Python dictionary\n",
        "counts = result_sim.get_counts(circ)\n",
        "print(counts)"
      ],
      "execution_count": null,
      "outputs": []
    },
    {
      "cell_type": "code",
      "metadata": {
        "id": "k0uTUrODp1jP"
      },
      "source": [
        "# Plot the results on a bar chart\n",
        "qiskit.tools.visualization.plot_histogram(counts)"
      ],
      "execution_count": null,
      "outputs": []
    },
    {
      "cell_type": "markdown",
      "metadata": {
        "id": "6FULG7anp1jP"
      },
      "source": [
        "# Superposition"
      ]
    },
    {
      "cell_type": "code",
      "metadata": {
        "id": "5NHHbVgGp1jP"
      },
      "source": [
        "# Create a Quantum Register with 1 qubit (wire).\n",
        "qr = qiskit.QuantumRegister(1)\n",
        "\n",
        "# Create a Classical Register with 1 bit (double wire).\n",
        "cr = qiskit.ClassicalRegister(1)\n",
        "\n",
        "# Create a Quantum Circuit from the quantum and classical registers\n",
        "circ = qiskit.QuantumCircuit(qr, cr)\n",
        "\n",
        "# Place an Hadamard gate on the qubit wire\n",
        "circ.h(qr[0])\n",
        "\n",
        "# Measure the qubit into the classical register\n",
        "circ.measure(qr, cr)\n",
        "\n",
        "# Draw the circuit\n",
        "circ.draw(output='mpl', scale=1.5)"
      ],
      "execution_count": null,
      "outputs": []
    },
    {
      "cell_type": "code",
      "metadata": {
        "id": "pjoQtYh6p1jP"
      },
      "source": [
        "# Execute the circuit on the qasm simulator, running it 100 times.\n",
        "job_sim = qiskit.execute(circ, backend_sim, shots=100)\n",
        "\n",
        "# Grab the results from the job.\n",
        "result_sim = job_sim.result()\n",
        "\n",
        "# Print the counts, which are contained in a Python dictionary\n",
        "counts = result_sim.get_counts(circ)\n",
        "print(counts)"
      ],
      "execution_count": null,
      "outputs": []
    },
    {
      "cell_type": "code",
      "metadata": {
        "id": "VPNa46QXp1jQ"
      },
      "source": [
        "# Plot the results on a bar chart\n",
        "qiskit.tools.visualization.plot_histogram(counts)"
      ],
      "execution_count": null,
      "outputs": []
    },
    {
      "cell_type": "markdown",
      "metadata": {
        "id": "VZUKZWIlp1jQ"
      },
      "source": [
        "This demonstrates the first principle fundamental princple of quantum mechanics that provide a good starting point for understanding quantum computation. The priciple of superposition, that a physical system in a definite state can still behave randomly."
      ]
    },
    {
      "cell_type": "markdown",
      "metadata": {
        "id": "Qg773AYJp1jR"
      },
      "source": [
        "## Applying Hadarmards Twice\n",
        "\n",
        "Now that we've applied a Hadamard gate and put a qubit in superposition, what happens if you apply a hadamard to a qubit already in a the $|0+1\\rangle$ state."
      ]
    },
    {
      "cell_type": "code",
      "metadata": {
        "id": "qEk8vgSzp1jR"
      },
      "source": [
        "# Build a circuit with 1 qubit and 1 classical bit\n",
        "qr = qiskit.QuantumRegister(1)\n",
        "cr = qiskit.ClassicalRegister(1)\n",
        "qc = qiskit.QuantumCircuit(qr, cr)\n",
        "# Apply 2 Hadamard gates on the circuit and then measure\n",
        "qc.h(qr[0])\n",
        "qc.h(qr[0])\n",
        "qc.measure(qr, cr)\n",
        "# Draw the circuit\n",
        "qc.draw(output='mpl')"
      ],
      "execution_count": null,
      "outputs": []
    },
    {
      "cell_type": "code",
      "metadata": {
        "id": "4QazkINap1jR"
      },
      "source": [
        "# Run the circuit and print the output counts\n",
        "result = qiskit.execute(qc, backend_sim, shots=100).result()\n",
        "counts = result.get_counts()\n",
        "print(counts)"
      ],
      "execution_count": null,
      "outputs": []
    },
    {
      "cell_type": "code",
      "metadata": {
        "id": "xSWoPihep1jS"
      },
      "source": [
        "# Print the histogram\n",
        "qiskit.tools.visualization.plot_histogram(counts)"
      ],
      "execution_count": null,
      "outputs": []
    },
    {
      "cell_type": "markdown",
      "metadata": {
        "id": "OwTvxFNUp1jS"
      },
      "source": [
        "### Apply Hadamard twice from |$1\\rangle$ basis state"
      ]
    },
    {
      "cell_type": "code",
      "metadata": {
        "id": "LADtgqEPp1jT"
      },
      "source": [
        "# Build a circuit with 1 qubit and 1 classical bit\n",
        "qr = qiskit.QuantumRegister(1)\n",
        "cr = qiskit.ClassicalRegister(1)\n",
        "qc = qiskit.QuantumCircuit(qr, cr)\n",
        "# Apply 2 Hadamard gates on the circuit and then measure\n",
        "qc.x(qr[0])\n",
        "qc.h(qr[0])\n",
        "qc.h(qr[0])\n",
        "qc.measure(qr, cr)\n",
        "# Draw the circuit\n",
        "qc.draw(output='mpl')"
      ],
      "execution_count": null,
      "outputs": []
    },
    {
      "cell_type": "code",
      "metadata": {
        "id": "pVNKupOmp1jT"
      },
      "source": [
        "# Run the circuit and print the output counts\n",
        "result = qiskit.execute(qc, backend_sim, shots=100).result()\n",
        "counts = result.get_counts()\n",
        "print(counts)"
      ],
      "execution_count": null,
      "outputs": []
    },
    {
      "cell_type": "code",
      "metadata": {
        "id": "PbgByd9ap1jU"
      },
      "source": [
        "# Print the histogram\n",
        "qiskit.tools.visualization.plot_histogram(counts)"
      ],
      "execution_count": null,
      "outputs": []
    },
    {
      "cell_type": "markdown",
      "metadata": {
        "id": "e0yFfbzMp1jU"
      },
      "source": [
        "# Other Quantum Gates\n",
        "\n",
        "The list of standard available logic gates are documented here:\n",
        "\n",
        "https://github.com/Qiskit/qiskit-tutorials/blob/master/qiskit/terra/summary_of_quantum_operations.ipynb\n",
        "\n",
        "However, that guide typically only explains the operation performed by using it's unitary matrix. If you want to visualize the output state from using a quantum gate on the bloch sphere you can use the statevector simulator to do this:"
      ]
    },
    {
      "cell_type": "code",
      "metadata": {
        "id": "j_0CVHULp1jV"
      },
      "source": [
        "# Get the statevector simulator to inspect the quantum state\n",
        "backend_sv_sim = qiskit.BasicAer.get_backend('statevector_simulator')\n",
        "qr = qiskit.QuantumRegister(1)\n",
        "cr = qiskit.ClassicalRegister(1)\n",
        "circ = qiskit.QuantumCircuit(qr, cr)\n",
        "circ.y(qr)\n",
        "result = qiskit.execute(circ, backend_sv_sim).result()\n",
        "qiskit.tools.visualization.plot_bloch_multivector(result.get_statevector())"
      ],
      "execution_count": null,
      "outputs": []
    },
    {
      "cell_type": "markdown",
      "metadata": {
        "id": "zIA0lUkJp1jV"
      },
      "source": [
        "The above shows the end state after applying the Pauli Y gate (which like the Pauli X/Quantum Not gate) can be thought of a 180 degree rotation around the Y axis. So when starting from the |$0\\rangle$ basis state the result is the |$1\\rangle$ basis state.\n",
        "\n",
        "However, many gates rotate the phase. To visualize any change in phase you'll want to put the qubit in superposition with a hadamard gate first. For example:"
      ]
    },
    {
      "cell_type": "code",
      "metadata": {
        "id": "1byEq1dWp1jb"
      },
      "source": [
        "qr = qiskit.QuantumRegister(1)\n",
        "cr = qiskit.ClassicalRegister(1)\n",
        "circ = qiskit.QuantumCircuit(qr, cr)\n",
        "circ.h(qr)\n",
        "circ.sdg(qr)\n",
        "result = qiskit.execute(circ, backend_sv_sim).result()\n",
        "\n",
        "qiskit.tools.visualization.plot_bloch_multivector(result.get_statevector())"
      ],
      "execution_count": null,
      "outputs": []
    },
    {
      "cell_type": "markdown",
      "metadata": {
        "id": "Xc1nHHOTp1jb"
      },
      "source": [
        "This example shows the output of the $S^{\\dagger}$ (or, conjugate of $\\sqrt{Z}$ phase) gate on the bloch sphere for a qubit in superposition from a Hadamard gate. Since it is a phase gate it has no noticeable effect on a qubit in the |$0\\rangle$ basis state:"
      ]
    },
    {
      "cell_type": "code",
      "metadata": {
        "id": "921v6G9Jp1jc"
      },
      "source": [
        "qr = qiskit.QuantumRegister(1)\n",
        "cr = qiskit.ClassicalRegister(1)\n",
        "circ = qiskit.QuantumCircuit(qr, cr)\n",
        "circ.sdg(qr)\n",
        "result = qiskit.execute(circ, backend_sv_sim).result()\n",
        "\n",
        "qiskit.tools.visualization.plot_bloch_multivector(result.get_statevector())"
      ],
      "execution_count": null,
      "outputs": []
    },
    {
      "cell_type": "markdown",
      "metadata": {
        "id": "sStk6UGTp1jc"
      },
      "source": [
        "# Multi Qubit Circuits and Gates"
      ]
    },
    {
      "cell_type": "code",
      "metadata": {
        "id": "jsn3ZczGp1jc"
      },
      "source": [
        "# Create a Quantum Register with 3 qubits\n",
        "qr = qiskit.QuantumRegister(3)\n",
        "\n",
        "# Create a Quantum Circuit from the quantum register. Because we're going to use\n",
        "# the statevector_simulator, we won't measure the circuit or need classical registers.\n",
        "circ = qiskit.QuantumCircuit(qr)\n",
        "\n",
        "# Place an X gate on the 2nd and 3rd wires. The topmost wire is index 0.\n",
        "circ.x(qr[1])\n",
        "circ.x(qr[2])\n",
        "\n",
        "# Draw the circuit\n",
        "circ.draw(output='mpl')"
      ],
      "execution_count": null,
      "outputs": []
    },
    {
      "cell_type": "code",
      "metadata": {
        "id": "ZaDMyZMIp1jc"
      },
      "source": [
        "# Execute the circuit on the state vector simulator\n",
        "job_sim = qiskit.execute(circ, backend_sv_sim)\n",
        "\n",
        "# Grab the results from the job.\n",
        "result_sim = job_sim.result()\n",
        "\n",
        "# Obtain the state vector for the quantum circuit\n",
        "quantum_state = result_sim.get_statevector(circ, decimals=3)\n",
        "\n",
        "# Output the quantum state vector\n",
        "print(quantum_state)"
      ],
      "execution_count": null,
      "outputs": []
    },
    {
      "cell_type": "code",
      "metadata": {
        "id": "pRE_kOjGp1jd"
      },
      "source": [
        "qiskit.tools.visualization.plot_state_city(quantum_state)"
      ],
      "execution_count": null,
      "outputs": []
    },
    {
      "cell_type": "code",
      "metadata": {
        "id": "spMUVDTjp1je"
      },
      "source": [
        "qiskit.tools.visualization.plot_bloch_multivector(quantum_state)"
      ],
      "execution_count": null,
      "outputs": []
    },
    {
      "cell_type": "code",
      "metadata": {
        "id": "IrYk4047p1je"
      },
      "source": [
        "# Create a Quantum Register with 3 qubits\n",
        "qr = qiskit.QuantumRegister(2)\n",
        "cr = qiskit.ClassicalRegister(2)\n",
        "circ = qiskit.QuantumCircuit(qr)\n",
        "# Apply a CNOT gate with qr[0] as the control and qr[1] as the target\n",
        "circ.cx(qr[0], qr[1])\n",
        "\n",
        "meas = qiskit.QuantumCircuit(qr, cr)\n",
        "meas.measure(qr, cr)\n",
        "\n",
        "# Draw the circuit\n",
        "circ.draw(output='mpl')"
      ],
      "execution_count": null,
      "outputs": []
    },
    {
      "cell_type": "code",
      "metadata": {
        "id": "WaFC2EDHp1jf"
      },
      "source": [
        "# Execute the circuit on the state vector simulator\n",
        "job_sim = qiskit.execute(circ, backend_sv_sim)\n",
        "\n",
        "# Grab the results from the job.\n",
        "result_sim = job_sim.result()\n",
        "\n",
        "# Obtain the state vector for the quantum circuit\n",
        "quantum_state = result_sim.get_statevector(circ, decimals=3)\n",
        "\n",
        "# Output the quantum state vector\n",
        "print(quantum_state)"
      ],
      "execution_count": null,
      "outputs": []
    },
    {
      "cell_type": "code",
      "metadata": {
        "id": "WoLOjfc4p1jf"
      },
      "source": [
        "qiskit.tools.visualization.plot_state_city(quantum_state)"
      ],
      "execution_count": null,
      "outputs": []
    },
    {
      "cell_type": "code",
      "metadata": {
        "id": "TtidIBE1p1jf"
      },
      "source": [
        "# Execute the circuit on the state vector simulator\n",
        "job_sim = qiskit.execute(circ + meas, backend_sim)\n",
        "\n",
        "# Grab the results from the job.\n",
        "result = job_sim.result()\n",
        "\n",
        "counts = result.get_counts()\n",
        "# Output the quantum state vector\n",
        "print(counts)"
      ],
      "execution_count": null,
      "outputs": []
    },
    {
      "cell_type": "code",
      "metadata": {
        "id": "Qq6XG4T1p1jg"
      },
      "source": [
        "qiskit.tools.visualization.plot_histogram(counts)"
      ],
      "execution_count": null,
      "outputs": []
    },
    {
      "cell_type": "code",
      "metadata": {
        "id": "16xQoXYJp1jg"
      },
      "source": [
        "circ = qiskit.QuantumCircuit(qr)\n",
        "# Apply an X gate on qr[0] before the CNOT\n",
        "circ.x(qr[0])\n",
        "\n",
        "# Apply a CNOT gate with qr[0] as the control and qr[1] as the target\n",
        "circ.cx(qr[0], qr[1])\n",
        "\n",
        "# Draw the circuit\n",
        "circ.draw(output='mpl')"
      ],
      "execution_count": null,
      "outputs": []
    },
    {
      "cell_type": "code",
      "metadata": {
        "id": "ErvirWEPp1jg"
      },
      "source": [
        "# Execute the circuit on the state vector simulator\n",
        "job_sim = qiskit.execute(circ, backend_sv_sim)\n",
        "\n",
        "# Grab the results from the job.\n",
        "result_sim = job_sim.result()\n",
        "\n",
        "# Obtain the state vector for the quantum circuit\n",
        "quantum_state = result_sim.get_statevector(circ, decimals=3)\n",
        "\n",
        "# Output the quantum state vector\n",
        "print(quantum_state)"
      ],
      "execution_count": null,
      "outputs": []
    },
    {
      "cell_type": "code",
      "metadata": {
        "id": "vTddXPwhp1jg"
      },
      "source": [
        "qiskit.tools.visualization.plot_state_city(quantum_state)"
      ],
      "execution_count": null,
      "outputs": []
    },
    {
      "cell_type": "code",
      "metadata": {
        "id": "B1VVzYWYp1jh"
      },
      "source": [
        "# Execute the circuit on the state vector simulator\n",
        "job_sim = qiskit.execute(circ + meas, backend_sim)\n",
        "\n",
        "# Grab the results from the job.\n",
        "result = job_sim.result()\n",
        "\n",
        "counts = result.get_counts()\n",
        "# Output the quantum state vector\n",
        "print(counts)"
      ],
      "execution_count": null,
      "outputs": []
    },
    {
      "cell_type": "code",
      "metadata": {
        "id": "U-HA00RCp1jh"
      },
      "source": [
        "qiskit.tools.visualization.plot_histogram(counts)"
      ],
      "execution_count": null,
      "outputs": []
    },
    {
      "cell_type": "markdown",
      "metadata": {
        "id": "EEAu8hWmp1jh"
      },
      "source": [
        "These are all still classical operations and states, just with multiple qubits. Lets look at what happens when we start using CNOT outside of a basis state."
      ]
    },
    {
      "cell_type": "markdown",
      "metadata": {
        "id": "z9SXSqvdp1jh"
      },
      "source": [
        "# Entanglement"
      ]
    },
    {
      "cell_type": "code",
      "metadata": {
        "id": "oD0dSxiep1jh"
      },
      "source": [
        "# Creating registers\n",
        "q2 = qiskit.QuantumRegister(2)\n",
        "c1 = qiskit.ClassicalRegister(1)\n",
        "c2 = qiskit.ClassicalRegister(2)\n",
        "\n",
        "# quantum circuit to make an entangled bell state \n",
        "bell = qiskit.QuantumCircuit(q2)\n",
        "bell.h(q2[0])\n",
        "bell.cx(q2[0], q2[1])\n",
        "\n",
        "# quantum circuit to measure q0 in the standard basis\n",
        "measureIZ = qiskit.QuantumCircuit(q2, c1)\n",
        "measureIZ.measure(q2[0], c1[0])\n",
        "bellIZ = bell + measureIZ\n",
        "\n",
        "# quantum circuit to measure q0 in the superposition basis \n",
        "measureIX = qiskit.QuantumCircuit(q2, c1)\n",
        "measureIX.h(q2[0])\n",
        "measureIX.measure(q2[0], c1[0])\n",
        "bellIX = bell + measureIX\n",
        "\n",
        "# quantum circuit to measure q1 in the standard basis\n",
        "measureZI = qiskit.QuantumCircuit(q2, c1)\n",
        "measureZI.measure(q2[1], c1[0])\n",
        "bellZI = bell + measureZI\n",
        "\n",
        "# quantum circuit to measure q1 in the superposition basis \n",
        "measureXI = qiskit.QuantumCircuit(q2, c1)\n",
        "measureXI.h(q2[1])\n",
        "measureXI.measure(q2[1], c1[0])\n",
        "bellXI = bell + measureXI\n",
        "\n",
        "# quantum circuit to measure q in the standard basis \n",
        "measureZZ = qiskit.QuantumCircuit(q2, c2)\n",
        "measureZZ.measure(q2[0], c2[0])\n",
        "measureZZ.measure(q2[1], c2[1])\n",
        "bellZZ = bell + measureZZ\n",
        "\n",
        "# quantum circuit to measure q in the superposition basis \n",
        "measureXX = qiskit.QuantumCircuit(q2, c2)\n",
        "measureXX.h(q2[0])\n",
        "measureXX.h(q2[1])\n",
        "measureXX.measure(q2[0], c2[0])\n",
        "measureXX.measure(q2[1], c2[1])\n",
        "bellXX = bell + measureXX"
      ],
      "execution_count": null,
      "outputs": []
    },
    {
      "cell_type": "code",
      "metadata": {
        "id": "lqpKiOEKp1ji"
      },
      "source": [
        "bellIZ.draw(output='mpl')"
      ],
      "execution_count": null,
      "outputs": []
    },
    {
      "cell_type": "code",
      "metadata": {
        "id": "EuiNDL9zp1ji"
      },
      "source": [
        "bellIX.draw(output='mpl')"
      ],
      "execution_count": null,
      "outputs": []
    },
    {
      "cell_type": "code",
      "metadata": {
        "id": "gfCAn_VDp1ji"
      },
      "source": [
        "bellZI.draw(output='mpl')"
      ],
      "execution_count": null,
      "outputs": []
    },
    {
      "cell_type": "code",
      "metadata": {
        "id": "b6QI23Kcp1ji"
      },
      "source": [
        "bellXI.draw(output='mpl')"
      ],
      "execution_count": null,
      "outputs": []
    },
    {
      "cell_type": "code",
      "metadata": {
        "id": "gg3OiQ6rp1ji"
      },
      "source": [
        "bellZZ.draw(output='mpl')"
      ],
      "execution_count": null,
      "outputs": []
    },
    {
      "cell_type": "code",
      "metadata": {
        "id": "wvVS-qC-p1jj"
      },
      "source": [
        "bellXX.draw(output='mpl')"
      ],
      "execution_count": null,
      "outputs": []
    },
    {
      "cell_type": "code",
      "metadata": {
        "id": "p9p6ulmgp1jj"
      },
      "source": [
        "circuits = [bellIZ,bellIX,bellZI,bellXI,bellZZ,bellXX]\n",
        "job = qiskit.execute(circuits, backend_sim)\n",
        "result = job.result()\n",
        "\n",
        "result_sv = qiskit.execute(bell, backend_sv_sim).result()\n",
        "\n",
        "qiskit.tools.visualization.plot_histogram(result.get_counts(bellIZ))"
      ],
      "execution_count": null,
      "outputs": []
    },
    {
      "cell_type": "code",
      "metadata": {
        "id": "n2JUuKHmp1jj"
      },
      "source": [
        "result.get_counts(bellIZ)"
      ],
      "execution_count": null,
      "outputs": []
    },
    {
      "cell_type": "code",
      "metadata": {
        "id": "E-Vk2QHWp1jj"
      },
      "source": [
        "qiskit.tools.visualization.plot_histogram(result.get_counts(bellIX))"
      ],
      "execution_count": null,
      "outputs": []
    },
    {
      "cell_type": "code",
      "metadata": {
        "id": "_R-2-ZrNp1jj"
      },
      "source": [
        "qiskit.tools.visualization.plot_histogram(result.get_counts(bellZI))"
      ],
      "execution_count": null,
      "outputs": []
    },
    {
      "cell_type": "code",
      "metadata": {
        "id": "hOiWuD8Ap1jk"
      },
      "source": [
        "qiskit.tools.visualization.plot_histogram(result.get_counts(bellXI))"
      ],
      "execution_count": null,
      "outputs": []
    },
    {
      "cell_type": "code",
      "metadata": {
        "id": "y7btyG6vp1jk"
      },
      "source": [
        "qiskit.tools.visualization.plot_histogram(result.get_counts(bellZZ))"
      ],
      "execution_count": null,
      "outputs": []
    },
    {
      "cell_type": "code",
      "metadata": {
        "id": "bCto1KZWp1jk"
      },
      "source": [
        "qiskit.tools.visualization.plot_histogram(result.get_counts(bellXX))"
      ],
      "execution_count": null,
      "outputs": []
    },
    {
      "cell_type": "code",
      "metadata": {
        "id": "Cq9dHgIzp1jm"
      },
      "source": [
        "qiskit.tools.visualization.plot_state_city(result_sv.get_statevector())"
      ],
      "execution_count": null,
      "outputs": []
    },
    {
      "cell_type": "markdown",
      "metadata": {
        "id": "K1MlVgvvp1jo"
      },
      "source": [
        "## Mixed State vs Entanglement"
      ]
    },
    {
      "cell_type": "code",
      "metadata": {
        "id": "xUM9wI39p1js"
      },
      "source": [
        "# quantum circuit to make a mixed state \n",
        "mixed1 = qiskit.QuantumCircuit(q2, c2)\n",
        "mixed2 = qiskit.QuantumCircuit(q2, c2)\n",
        "mixed2.x(q2)\n",
        "mixed1.measure(q2[0], c2[0])\n",
        "mixed1.measure(q2[1], c2[1])\n",
        "mixed2.measure(q2[0], c2[0])\n",
        "mixed2.measure(q2[1], c2[1])\n",
        "\n",
        "mixed1.draw(output='mpl')"
      ],
      "execution_count": null,
      "outputs": []
    },
    {
      "cell_type": "code",
      "metadata": {
        "id": "cR3GSwwfp1jt"
      },
      "source": [
        "mixed2.draw(output='mpl')"
      ],
      "execution_count": null,
      "outputs": []
    },
    {
      "cell_type": "code",
      "metadata": {
        "id": "zBE472VNp1ju"
      },
      "source": [
        "mixed_state = [mixed1,mixed2]\n",
        "job = qiskit.execute(mixed_state, backend_sim)\n",
        "result = job.result()\n",
        "\n",
        "counts1 = result.get_counts(mixed_state[0])\n",
        "counts2 = result.get_counts(mixed_state[1])\n",
        "\n",
        "import collections\n",
        "ground = collections.Counter(counts1)\n",
        "excited = collections.Counter(counts2)\n",
        "qiskit.tools.visualization.plot_histogram(ground + excited)"
      ],
      "execution_count": null,
      "outputs": []
    },
    {
      "cell_type": "markdown",
      "metadata": {
        "id": "iAM6R8H0p1ju"
      },
      "source": [
        "We do see the same kind of correlation indeed as we observed in the \"bell_measureZZ\" circuit. But we know this is not an entangled state! All we have done is leave the qubits in their ground state for some of the shots and flip both qubits for some of the shots. This is called a mixed state and it is a classical state. Now, would we observe a similar outcome if we measured this mixed state in the superposition basis?"
      ]
    },
    {
      "cell_type": "code",
      "metadata": {
        "id": "tjcKeXc1p1ju"
      },
      "source": [
        "# quantum circuit to make a mixed state \n",
        "mixed3 = qiskit.QuantumCircuit(q2, c2)\n",
        "mixed3.h(q2)\n",
        "mixed3.measure(q2[0], c2[0])\n",
        "mixed3.measure(q2[1], c2[1])\n",
        "mixed4 = qiskit.QuantumCircuit(q2, c2)\n",
        "mixed4.x(q2)\n",
        "mixed4.h(q2)\n",
        "mixed4.measure(q2[0], c2[0])\n",
        "mixed4.measure(q2[1], c2[1])\n",
        "mixed3.draw(output='mpl')"
      ],
      "execution_count": null,
      "outputs": []
    },
    {
      "cell_type": "code",
      "metadata": {
        "id": "RoET-MISp1ju"
      },
      "source": [
        "mixed4.draw(output='mpl')"
      ],
      "execution_count": null,
      "outputs": []
    },
    {
      "cell_type": "code",
      "metadata": {
        "id": "tWW7k0i4p1jv"
      },
      "source": [
        "mixed_state = [mixed3, mixed4]\n",
        "job = qiskit.execute(mixed_state, backend_sim)\n",
        "result = job.result()\n",
        "\n",
        "counts1 = result.get_counts(mixed_state[0])\n",
        "counts2 = result.get_counts(mixed_state[1])\n",
        "\n",
        "import collections\n",
        "ground = collections.Counter(counts1)\n",
        "excited = collections.Counter(counts2)\n",
        "qiskit.tools.visualization.plot_histogram(ground + excited)"
      ],
      "execution_count": null,
      "outputs": []
    },
    {
      "cell_type": "markdown",
      "metadata": {
        "id": "oIIE5n5hp1jv"
      },
      "source": [
        "You can see here that when we measure the mixed state in the superposition basis that the results are not correlated, which is different from our previous entangled example \"bell_measureXX\". This shows that a mixed state is not actually entangled."
      ]
    },
    {
      "cell_type": "markdown",
      "metadata": {
        "id": "cqFBeWR0p1jv"
      },
      "source": [
        "# More Information\n",
        "\n",
        "This is just a starting point for learning about quantum computation. There are a several additional resources where to go for more information on this topic. This workshop was heavily based off of the community notebooks in the [qiskit-tutorials repository](https://github.com/Qiskit/qiskit-tutorials) these continue on and explore these topics in more detail:\n",
        "\n",
        "1. **Amplitude and Phase**: https://github.com/Qiskit/qiskit-tutorials/blob/master/community/terra/qis_intro/amplitude_and_phase.ipynb\n",
        "2. **Testing Entanglement**: https://github.com/Qiskit/qiskit-tutorials/blob/master/community/terra/qis_intro/entanglement_testing.ipynb\n",
        "3. **Quantum Teleportation and Superdense Coding**: https://github.com/Qiskit/qiskit-tutorials/blob/master/community/terra/qis_intro/teleportation_superdensecoding.ipynb\n",
        "\n",
        "The qiskit-tutorials repository also contains many other Jupyter notebooks covering a variety of topics. One thing that can be fun is applying these principles to make games: https://github.com/Qiskit/qiskit-tutorials/tree/master/community/games contains several games on Quantum computers.\n",
        "\n",
        "If you're interested in seeing applications and algorithms that are using quantum computation take a look at the [Qiskit Aqua](https://qiskit.org/aqua) which provides a Python library for quantum alogrithms.\n",
        "\n",
        "A paper outlining everything talked about here in more detail along with basic alogrithms building off of these concepts: https://arxiv.org/abs/1903.04359"
      ]
    }
  ]
}